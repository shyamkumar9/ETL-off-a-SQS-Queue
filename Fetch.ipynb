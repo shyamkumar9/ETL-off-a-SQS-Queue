{
 "cells": [
  {
   "cell_type": "code",
   "execution_count": 168,
   "id": "d74b3193",
   "metadata": {},
   "outputs": [],
   "source": [
    "import boto3\n",
    "from botocore import UNSIGNED\n",
    "from botocore.client import Config\n",
    "import json\n",
    "from datetime import datetime\n",
    "import psycopg2\n",
    "from cryptography.fernet import Fernet"
   ]
  },
  {
   "cell_type": "code",
   "execution_count": 169,
   "id": "ea86ea84",
   "metadata": {},
   "outputs": [],
   "source": [
    "## Encryption\n",
    "message = \"my name is Shyam\"\n",
    "key = Fernet.generate_key()\n",
    "fernet = Fernet(key)"
   ]
  },
  {
   "cell_type": "code",
   "execution_count": 141,
   "id": "d8959f0c",
   "metadata": {},
   "outputs": [],
   "source": [
    "# Create a sqs client\n",
    "sqs = boto3.client('sqs', region_name='us-west-2',endpoint_url='http://localhost:4566',config=Config(signature_version=UNSIGNED))\n",
    "queue_url = 'http://localhost:4566/000000000000/login-queue'\n",
    "# sqs receive message\n",
    "response = sqs.receive_message(\n",
    "    QueueUrl=queue_url,\n",
    "    MaxNumberOfMessages=2,\n",
    "    WaitTimeSeconds=5\n",
    ")\n"
   ]
  },
  {
   "cell_type": "code",
   "execution_count": 151,
   "id": "53b3995a",
   "metadata": {},
   "outputs": [],
   "source": [
    "sqs_message = response[\"Messages\"][0]"
   ]
  },
  {
   "cell_type": "code",
   "execution_count": 152,
   "id": "1cef94dd",
   "metadata": {},
   "outputs": [
    {
     "data": {
      "text/plain": [
       "{'MessageId': 'aa1747fb-768d-4196-bfdc-e4901c92a0ec',\n",
       " 'ReceiptHandle': 'MDU1ZTA1ZmQtNzhmMi00ZWNmLWI1NjQtMmI3ODc2YTEzMWUzIGFybjphd3M6c3FzOnVzLWVhc3QtMTowMDAwMDAwMDAwMDA6bG9naW4tcXVldWUgYWExNzQ3ZmItNzY4ZC00MTk2LWJmZGMtZTQ5MDFjOTJhMGVjIDE2ODkyMjgxMDcuMjU2NjY0NQ==',\n",
       " 'MD5OfBody': 'e4f1de8c099c0acd7cb05ba9e790ac02',\n",
       " 'Body': '{\"user_id\": \"424cdd21-063a-43a7-b91b-7ca1a833afae\", \"app_version\": \"2.3.0\", \"device_type\": \"android\", \"ip\": \"199.172.111.135\", \"locale\": \"RU\", \"device_id\": \"593-47-5928\"}'}"
      ]
     },
     "execution_count": 152,
     "metadata": {},
     "output_type": "execute_result"
    }
   ],
   "source": [
    "sqs_message"
   ]
  },
  {
   "cell_type": "markdown",
   "id": "62323ee8",
   "metadata": {},
   "source": [
    "### Message Data structure"
   ]
  },
  {
   "cell_type": "code",
   "execution_count": 161,
   "id": "0715e9d1",
   "metadata": {},
   "outputs": [],
   "source": [
    "class Message:\n",
    "    \n",
    "    def __init__(self,user_id,app_version, device_type, ip, locale, device_id):\n",
    "        self.user_id = user_id\n",
    "        self.app_version = \"\".join(app_version.split(\".\"))\n",
    "        self.device_type = device_type\n",
    "        self.ip = fernet.encrypt(ip.encode()).decode()\n",
    "        self.locale = locale\n",
    "        self.device_id  = fernet.encrypt(device_id.encode()).decode()   \n",
    "        self.created_date = datetime.today().strftime('%Y-%m-%d')\n",
    "        "
   ]
  },
  {
   "cell_type": "code",
   "execution_count": 162,
   "id": "994d3548",
   "metadata": {},
   "outputs": [],
   "source": [
    "m = Message(**json.loads(sqs_message[\"Body\"]))"
   ]
  },
  {
   "cell_type": "markdown",
   "id": "3cebd5f8",
   "metadata": {},
   "source": [
    "### Dat"
   ]
  },
  {
   "cell_type": "code",
   "execution_count": 163,
   "id": "2fd03ed1",
   "metadata": {},
   "outputs": [],
   "source": [
    "params = {\n",
    "    \"host\":\"localhost\",\n",
    "    \"database\":\"postgres\",\n",
    "    \"user\":\"postgres\",\n",
    "    \"password\":\"postgres\",\n",
    "    \"port\":5432\n",
    "}"
   ]
  },
  {
   "cell_type": "code",
   "execution_count": 164,
   "id": "8d6f83c0",
   "metadata": {},
   "outputs": [],
   "source": [
    "#!/usr/bin/python\n",
    "def connectAndRun(command):\n",
    "    \"\"\" Connect to the PostgreSQL database server \"\"\"\n",
    "    conn = None\n",
    "    try:\n",
    "        print('Connecting to the PostgreSQL database...')\n",
    "        \n",
    "        conn = psycopg2.connect(**params)\n",
    "        cur = conn.cursor()\n",
    "        \n",
    "        cur.execute(command)\n",
    "        conn.commit()    \n",
    "        cur.close()\n",
    "    except (Exception, psycopg2.DatabaseError) as error:\n",
    "        print(error)\n",
    "    finally:\n",
    "        if conn is not None:\n",
    "            conn.close()\n",
    "            print('Database connection closed.')\n"
   ]
  },
  {
   "cell_type": "code",
   "execution_count": 165,
   "id": "4b103051",
   "metadata": {
    "scrolled": true
   },
   "outputs": [],
   "source": [
    "command = f\"insert into user_logins(user_id, device_type, masked_ip, masked_device_id,locale , app_version, create_date) values ('{m.user_id}','{m.device_type}','{m.ip}','{m.device_id }','{m.locale}','{m.app_version}', '{m.created_date}');\"\n"
   ]
  },
  {
   "cell_type": "code",
   "execution_count": 166,
   "id": "e07de284",
   "metadata": {},
   "outputs": [
    {
     "data": {
      "text/plain": [
       "\"insert into user_logins(user_id, device_type, masked_ip, masked_device_id,locale , app_version, create_date) values ('424cdd21-063a-43a7-b91b-7ca1a833afae','android','gAAAAABkr5O9VdclC97ERUlVrSTAMJZmr13YdDsuxavGwwCtr6dDv9Mp5Yx15Dpsa3DaD2HmFoS35GvjP_tC_OkI3LgZIbbDXg==','gAAAAABkr5O9jSF6GfHnjZZgSd5UjRMvCFqMJP7x5w436RafTURGeysQpnO4TRISHXGWopSJezu-83WyBnJPoB2-FyTJYZQjcg==','RU','230', '2023-07-13');\""
      ]
     },
     "execution_count": 166,
     "metadata": {},
     "output_type": "execute_result"
    }
   ],
   "source": [
    "command"
   ]
  },
  {
   "cell_type": "code",
   "execution_count": 167,
   "id": "857a4e02",
   "metadata": {
    "scrolled": true
   },
   "outputs": [
    {
     "name": "stdout",
     "output_type": "stream",
     "text": [
      "Connecting to the PostgreSQL database...\n",
      "Database connection closed.\n"
     ]
    }
   ],
   "source": [
    "connectAndRun(command)"
   ]
  },
  {
   "cell_type": "code",
   "execution_count": null,
   "id": "a802507e",
   "metadata": {},
   "outputs": [],
   "source": []
  },
  {
   "cell_type": "code",
   "execution_count": null,
   "id": "e4098c6f",
   "metadata": {},
   "outputs": [],
   "source": []
  },
  {
   "cell_type": "code",
   "execution_count": null,
   "id": "bc678808",
   "metadata": {},
   "outputs": [],
   "source": []
  }
 ],
 "metadata": {
  "kernelspec": {
   "display_name": "Python 3",
   "language": "python",
   "name": "python3"
  },
  "language_info": {
   "codemirror_mode": {
    "name": "ipython",
    "version": 3
   },
   "file_extension": ".py",
   "mimetype": "text/x-python",
   "name": "python",
   "nbconvert_exporter": "python",
   "pygments_lexer": "ipython3",
   "version": "3.8.8"
  }
 },
 "nbformat": 4,
 "nbformat_minor": 5
}
